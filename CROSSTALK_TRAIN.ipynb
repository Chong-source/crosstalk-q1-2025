{
  "cells": [
    {
      "cell_type": "markdown",
      "metadata": {
        "id": "oNOUg-0CNvSa"
      },
      "source": [
        "# Set up envinroment for Google Colab"
      ]
    },
    {
      "cell_type": "code",
      "execution_count": 1,
      "metadata": {
        "id": "6GwUnlypNvSc",
        "outputId": "707051ab-605e-4b3a-d9a6-b7a7f420e24c",
        "colab": {
          "base_uri": "https://localhost:8080/",
          "height": 1000
        }
      },
      "outputs": [
        {
          "output_type": "stream",
          "name": "stdout",
          "text": [
            "Cloning into 'crosstalk-q1-2025'...\n",
            "remote: Enumerating objects: 159, done.\u001b[K\n",
            "remote: Counting objects: 100% (159/159), done.\u001b[K\n",
            "remote: Compressing objects: 100% (129/129), done.\u001b[K\n",
            "remote: Total 159 (delta 78), reused 74 (delta 27), pack-reused 0 (from 0)\u001b[K\n",
            "Receiving objects: 100% (159/159), 14.69 MiB | 10.58 MiB/s, done.\n",
            "Resolving deltas: 100% (78/78), done.\n",
            "/content/crosstalk-q1-2025\n",
            "Collecting dataclasses (from -r requirements.txt (line 1))\n",
            "  Downloading dataclasses-0.6-py3-none-any.whl.metadata (3.0 kB)\n",
            "Requirement already satisfied: numpy in /usr/local/lib/python3.11/dist-packages (from -r requirements.txt (line 2)) (1.26.4)\n",
            "Requirement already satisfied: pandas in /usr/local/lib/python3.11/dist-packages (from -r requirements.txt (line 3)) (2.2.2)\n",
            "Requirement already satisfied: scikit-learn in /usr/local/lib/python3.11/dist-packages (from -r requirements.txt (line 4)) (1.6.1)\n",
            "Requirement already satisfied: gdown in /usr/local/lib/python3.11/dist-packages (from -r requirements.txt (line 5)) (5.2.0)\n",
            "Collecting catboost (from -r requirements.txt (line 6))\n",
            "  Downloading catboost-1.2.7-cp311-cp311-manylinux2014_x86_64.whl.metadata (1.2 kB)\n",
            "Requirement already satisfied: python-dateutil>=2.8.2 in /usr/local/lib/python3.11/dist-packages (from pandas->-r requirements.txt (line 3)) (2.8.2)\n",
            "Requirement already satisfied: pytz>=2020.1 in /usr/local/lib/python3.11/dist-packages (from pandas->-r requirements.txt (line 3)) (2025.1)\n",
            "Requirement already satisfied: tzdata>=2022.7 in /usr/local/lib/python3.11/dist-packages (from pandas->-r requirements.txt (line 3)) (2025.1)\n",
            "Requirement already satisfied: scipy>=1.6.0 in /usr/local/lib/python3.11/dist-packages (from scikit-learn->-r requirements.txt (line 4)) (1.13.1)\n",
            "Requirement already satisfied: joblib>=1.2.0 in /usr/local/lib/python3.11/dist-packages (from scikit-learn->-r requirements.txt (line 4)) (1.4.2)\n",
            "Requirement already satisfied: threadpoolctl>=3.1.0 in /usr/local/lib/python3.11/dist-packages (from scikit-learn->-r requirements.txt (line 4)) (3.5.0)\n",
            "Requirement already satisfied: beautifulsoup4 in /usr/local/lib/python3.11/dist-packages (from gdown->-r requirements.txt (line 5)) (4.13.3)\n",
            "Requirement already satisfied: filelock in /usr/local/lib/python3.11/dist-packages (from gdown->-r requirements.txt (line 5)) (3.17.0)\n",
            "Requirement already satisfied: requests[socks] in /usr/local/lib/python3.11/dist-packages (from gdown->-r requirements.txt (line 5)) (2.32.3)\n",
            "Requirement already satisfied: tqdm in /usr/local/lib/python3.11/dist-packages (from gdown->-r requirements.txt (line 5)) (4.67.1)\n",
            "Requirement already satisfied: graphviz in /usr/local/lib/python3.11/dist-packages (from catboost->-r requirements.txt (line 6)) (0.20.3)\n",
            "Requirement already satisfied: matplotlib in /usr/local/lib/python3.11/dist-packages (from catboost->-r requirements.txt (line 6)) (3.10.0)\n",
            "Requirement already satisfied: plotly in /usr/local/lib/python3.11/dist-packages (from catboost->-r requirements.txt (line 6)) (5.24.1)\n",
            "Requirement already satisfied: six in /usr/local/lib/python3.11/dist-packages (from catboost->-r requirements.txt (line 6)) (1.17.0)\n",
            "Requirement already satisfied: soupsieve>1.2 in /usr/local/lib/python3.11/dist-packages (from beautifulsoup4->gdown->-r requirements.txt (line 5)) (2.6)\n",
            "Requirement already satisfied: typing-extensions>=4.0.0 in /usr/local/lib/python3.11/dist-packages (from beautifulsoup4->gdown->-r requirements.txt (line 5)) (4.12.2)\n",
            "Requirement already satisfied: contourpy>=1.0.1 in /usr/local/lib/python3.11/dist-packages (from matplotlib->catboost->-r requirements.txt (line 6)) (1.3.1)\n",
            "Requirement already satisfied: cycler>=0.10 in /usr/local/lib/python3.11/dist-packages (from matplotlib->catboost->-r requirements.txt (line 6)) (0.12.1)\n",
            "Requirement already satisfied: fonttools>=4.22.0 in /usr/local/lib/python3.11/dist-packages (from matplotlib->catboost->-r requirements.txt (line 6)) (4.56.0)\n",
            "Requirement already satisfied: kiwisolver>=1.3.1 in /usr/local/lib/python3.11/dist-packages (from matplotlib->catboost->-r requirements.txt (line 6)) (1.4.8)\n",
            "Requirement already satisfied: packaging>=20.0 in /usr/local/lib/python3.11/dist-packages (from matplotlib->catboost->-r requirements.txt (line 6)) (24.2)\n",
            "Requirement already satisfied: pillow>=8 in /usr/local/lib/python3.11/dist-packages (from matplotlib->catboost->-r requirements.txt (line 6)) (11.1.0)\n",
            "Requirement already satisfied: pyparsing>=2.3.1 in /usr/local/lib/python3.11/dist-packages (from matplotlib->catboost->-r requirements.txt (line 6)) (3.2.1)\n",
            "Requirement already satisfied: tenacity>=6.2.0 in /usr/local/lib/python3.11/dist-packages (from plotly->catboost->-r requirements.txt (line 6)) (9.0.0)\n",
            "Requirement already satisfied: charset-normalizer<4,>=2 in /usr/local/lib/python3.11/dist-packages (from requests[socks]->gdown->-r requirements.txt (line 5)) (3.4.1)\n",
            "Requirement already satisfied: idna<4,>=2.5 in /usr/local/lib/python3.11/dist-packages (from requests[socks]->gdown->-r requirements.txt (line 5)) (3.10)\n",
            "Requirement already satisfied: urllib3<3,>=1.21.1 in /usr/local/lib/python3.11/dist-packages (from requests[socks]->gdown->-r requirements.txt (line 5)) (2.3.0)\n",
            "Requirement already satisfied: certifi>=2017.4.17 in /usr/local/lib/python3.11/dist-packages (from requests[socks]->gdown->-r requirements.txt (line 5)) (2025.1.31)\n",
            "Requirement already satisfied: PySocks!=1.5.7,>=1.5.6 in /usr/local/lib/python3.11/dist-packages (from requests[socks]->gdown->-r requirements.txt (line 5)) (1.7.1)\n",
            "Downloading dataclasses-0.6-py3-none-any.whl (14 kB)\n",
            "Downloading catboost-1.2.7-cp311-cp311-manylinux2014_x86_64.whl (98.7 MB)\n",
            "\u001b[2K   \u001b[90m━━━━━━━━━━━━━━━━━━━━━━━━━━━━━━━━━━━━━━━━\u001b[0m \u001b[32m98.7/98.7 MB\u001b[0m \u001b[31m8.1 MB/s\u001b[0m eta \u001b[36m0:00:00\u001b[0m\n",
            "\u001b[?25hInstalling collected packages: dataclasses, catboost\n",
            "Successfully installed catboost-1.2.7 dataclasses-0.6\n"
          ]
        },
        {
          "output_type": "display_data",
          "data": {
            "application/vnd.colab-display-data+json": {
              "pip_warning": {
                "packages": [
                  "dataclasses"
                ]
              },
              "id": "b2a75aa67dbc4beaa6c4a2e544d7c6d8"
            }
          },
          "metadata": {}
        }
      ],
      "source": [
        "# Check if directory exists and remove it if it does\n",
        "import os\n",
        "import shutil\n",
        "if os.path.exists('crosstalk-q1-2025'):\n",
        "    shutil.rmtree('crosstalk-q1-2025')\n",
        "!git clone https://github.com/cottascience/crosstalk-q1-2025.git\n",
        "%cd crosstalk-q1-2025\n",
        "!pip install -r requirements.txt"
      ]
    },
    {
      "cell_type": "markdown",
      "metadata": {
        "id": "P64HZtBJNvSd"
      },
      "source": [
        "# Download the training data"
      ]
    },
    {
      "cell_type": "markdown",
      "metadata": {
        "id": "rqWUufxoNvSd"
      },
      "source": [
        "### Download the training file and upload it to your google Drive (root folder)\n",
        "https://drive.google.com/file/d/11S5p0QgP1X9rOFiIjNSLydLenJwm7hle/view?usp=drive_link"
      ]
    },
    {
      "cell_type": "code",
      "execution_count": null,
      "metadata": {
        "id": "L2Zi0SzzNvSd"
      },
      "outputs": [],
      "source": [
        "from google.colab import drive\n",
        "drive.mount('/content/drive')\n",
        "file_path = '/content/drive/My Drive/Crosstalk Train.parquet' #check that this is correct"
      ]
    },
    {
      "cell_type": "markdown",
      "metadata": {
        "id": "_irGtgLUNvSd"
      },
      "source": [
        "# Load the train datasets"
      ]
    },
    {
      "cell_type": "code",
      "execution_count": null,
      "metadata": {
        "id": "s1-QY7RCNvSd"
      },
      "outputs": [],
      "source": [
        "from dataset import Dataset\n",
        "train_dataset = Dataset(filename=file_path, x_col=\"AVALON\") # fingerprints available: 'ATOMPAIR', 'MACCS', 'ECFP6', 'ECFP4', 'FCFP4', 'FCFP6', 'TOPTOR', 'RDK', 'AVALON'"
      ]
    },
    {
      "cell_type": "markdown",
      "metadata": {
        "id": "n4qkjqo0NvSe"
      },
      "source": [
        "# Get a smaller subset to make it faster to debug"
      ]
    },
    {
      "cell_type": "code",
      "execution_count": null,
      "metadata": {
        "id": "jJkbcVaANvSe"
      },
      "outputs": [],
      "source": [
        "import numpy as np\n",
        "random_indices = np.random.choice(len(train_dataset.X), size=1000, replace=False)\n",
        "train_dataset.X = train_dataset.X[random_indices]\n",
        "train_dataset.y = train_dataset.y[random_indices]"
      ]
    },
    {
      "cell_type": "markdown",
      "metadata": {
        "id": "dOTXjTP4NvSe"
      },
      "source": [
        "# Let's train catboost classifier and see how well it fits the training data"
      ]
    },
    {
      "cell_type": "code",
      "execution_count": null,
      "metadata": {
        "id": "O7TJjBfuNvSe"
      },
      "outputs": [],
      "source": [
        "import catboost as cb\n",
        "from eval import BinaryEvaluator\n",
        "params = {\n",
        "                'random_strength': 2, # only non-default hyperparam, default is 1\n",
        "                'random_seed': 1234,\n",
        "                'verbose': 0,\n",
        "                'loss_function': 'Logloss',\n",
        "                'task_type': 'GPU',\n",
        "                'devices': '0'\n",
        "            }\n",
        "model = cb.CatBoostClassifier(**params)\n",
        "eval = BinaryEvaluator(train_dataset.X, train_dataset.y)\n",
        "model.fit(train_dataset.X, train_dataset.y)\n",
        "yp = model.predict_proba(train_dataset.X)[:, 1] # or validation\n",
        "print( eval.compute_metrics(yt=train_dataset.y, yp=yp) ) # or validation"
      ]
    },
    {
      "cell_type": "markdown",
      "metadata": {
        "id": "D8ZAr4fQNvSf"
      },
      "source": [
        "# How well does it generalize though? Let's try 5-fold cross-validation"
      ]
    },
    {
      "cell_type": "code",
      "execution_count": null,
      "metadata": {
        "id": "uJBCTKrdNvSf"
      },
      "outputs": [],
      "source": [
        "model = cb.CatBoostClassifier(**params)\n",
        "res = eval.CV_model(model)\n",
        "print(res)"
      ]
    },
    {
      "cell_type": "markdown",
      "metadata": {
        "id": "ReLAPxPiNvSf"
      },
      "source": [
        "# Let's compare it against simpler sklearn baselines"
      ]
    },
    {
      "cell_type": "code",
      "execution_count": null,
      "metadata": {
        "id": "TR1EMKSxNvSf"
      },
      "outputs": [],
      "source": [
        "from eval import get_baseline_models\n",
        "\n",
        "eval = BinaryEvaluator(train_dataset.X, train_dataset.y)\n",
        "baselines = get_baseline_models()\n",
        "baselines_res = {}\n",
        "\n",
        "for m in baselines:\n",
        "    baselines_res[m] = eval.CV_model(baselines[m])\n",
        "\n",
        "print(baselines_res)"
      ]
    }
  ],
  "metadata": {
    "kernelspec": {
      "display_name": "cuda_env",
      "language": "python",
      "name": "cuda_env"
    },
    "language_info": {
      "codemirror_mode": {
        "name": "ipython",
        "version": 3
      },
      "file_extension": ".py",
      "mimetype": "text/x-python",
      "name": "python",
      "nbconvert_exporter": "python",
      "pygments_lexer": "ipython3",
      "version": "3.10.15"
    },
    "colab": {
      "provenance": []
    }
  },
  "nbformat": 4,
  "nbformat_minor": 0
}