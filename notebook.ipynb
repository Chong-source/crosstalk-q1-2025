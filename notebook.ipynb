{
 "cells": [
  {
   "cell_type": "markdown",
   "metadata": {},
   "source": [
    "# Set up envinroment for Google Colab"
   ]
  },
  {
   "cell_type": "code",
   "execution_count": null,
   "metadata": {},
   "outputs": [],
   "source": [
    "!git clone https://github.com/cottascience/crosstalk-q1-2025.git\n",
    "%cd crosstalk-q1-2025\n",
    "!pip install -r requirements.txt"
   ]
  },
  {
   "cell_type": "markdown",
   "metadata": {},
   "source": [
    "# Download the train and test data"
   ]
  },
  {
   "cell_type": "code",
   "execution_count": null,
   "metadata": {},
   "outputs": [],
   "source": [
    "import gdown\n",
    "import os\n",
    "\n",
    "file_id = '1iDn6HEO6oXO5lI5cQscxh_VQjpSAcGac'\n",
    "train_file = 'crosstalk_train.parquet'\n",
    "if not os.path.exists(train_file):\n",
    "    gdown.download(id=file_id, output=train_file, quiet=False)"
   ]
  },
  {
   "cell_type": "markdown",
   "metadata": {},
   "source": [
    "# Load the train datasets"
   ]
  },
  {
   "cell_type": "code",
   "execution_count": 13,
   "metadata": {},
   "outputs": [],
   "source": [
    "from dataset import Dataset\n",
    "train_dataset = Dataset(filename=train_file, X_col=\"AVALON\") # fingerprints available: 'ATOMPAIR', 'MACCS', 'ECFP6', 'ECFP4', 'FCFP4', 'FCFP6', 'TOPTOR', 'RDK', 'AVALON'"
   ]
  },
  {
   "cell_type": "markdown",
   "metadata": {},
   "source": [
    "# Get a smaller subset to make it faster to debug"
   ]
  },
  {
   "cell_type": "code",
   "execution_count": 5,
   "metadata": {},
   "outputs": [],
   "source": [
    "import numpy as np\n",
    "random_indices = np.random.choice(len(train_dataset.X), size=1000, replace=False)\n",
    "train_dataset.X = train_dataset.X[random_indices]\n",
    "train_dataset.y = train_dataset.y[random_indices]"
   ]
  },
  {
   "cell_type": "markdown",
   "metadata": {},
   "source": [
    "# Let's train catboost classifier and see how well it fits the training data"
   ]
  },
  {
   "cell_type": "code",
   "execution_count": 10,
   "metadata": {},
   "outputs": [
    {
     "name": "stdout",
     "output_type": "stream",
     "text": [
      "{'accuracy': 0.999, 'balanced_accuracy': 0.993421052631579, 'roc_auc': 0.9999928799270904, 'precision': 1.0, 'recall': 0.9868421052631579, 'mean_reciprocal_rank': 0.06466465164855116, 'positives': 76, 'predicted_positives': 75, 'hits_at_5': 0.06578947368421052, 'precision_at_5': 1.0, 'hits_at_10': 0.13157894736842105, 'precision_at_10': 1.0, 'hits_at_30': 0.39473684210526316, 'precision_at_30': 1.0, 'hits_at_76': 1.0, 'precision_at_76': 1.0}\n"
     ]
    }
   ],
   "source": [
    "import catboost as cb\n",
    "from eval import BinaryEvaluator\n",
    "params = {\n",
    "                'random_strength': 2, # only non-default hyperparam, default is 1\n",
    "                'random_seed': 1234,\n",
    "                'verbose': 0,\n",
    "                'loss_function': 'Logloss',\n",
    "                'task_type': 'GPU',\n",
    "                'devices': '0'\n",
    "            }\n",
    "model = cb.CatBoostClassifier(**params)\n",
    "eval = BinaryEvaluator(train_dataset.X, train_dataset.y)\n",
    "model.fit(train_dataset.X, train_dataset.y)\n",
    "yp = model.predict_proba(train_dataset.X)[:, 1] # or validation\n",
    "print( eval.compute_metrics(yt=train_dataset.y, yp=yp) ) # or validation"
   ]
  },
  {
   "cell_type": "markdown",
   "metadata": {},
   "source": [
    "# How well does it generalize though? Let's try 5-fold cross-validation"
   ]
  },
  {
   "cell_type": "code",
   "execution_count": 11,
   "metadata": {},
   "outputs": [
    {
     "name": "stdout",
     "output_type": "stream",
     "text": [
      "{'mean': {'accuracy': 0.917, 'balanced_accuracy': 0.5203011163337251, 'roc_auc': 0.7455324862906385, 'precision': 0.26666666666666666, 'recall': 0.052500000000000005, 'mrr': 0.09705604222418686, 'precision_at_k_5': 0.5199999999999999, 'hits_at_k_5': 0.17083333333333334, 'precision_at_k_10': 0.43999999999999995, 'hits_at_k_10': 0.28833333333333333, 'precision_at_k_30': 0.2733333333333333, 'hits_at_k_30': 0.5375}, 'std': {'accuracy': 0.008717797887081356, 'balanced_accuracy': 0.025732054327889897, 'roc_auc': 0.04922048975262177, 'precision': 0.27080128015453203, 'recall': 0.04969350505291858, 'mrr': 0.03131774861306332, 'precision_at_k_5': 0.20396078054371142, 'hits_at_k_5': 0.06718548123582124, 'precision_at_k_10': 0.13564659966250536, 'hits_at_k_10': 0.08491826135237998, 'precision_at_k_30': 0.06463573143221772, 'hits_at_k_30': 0.11672617529928753}}\n"
     ]
    }
   ],
   "source": [
    "model = cb.CatBoostClassifier(**params)\n",
    "res = eval.CV_model(model)\n",
    "print(res)"
   ]
  },
  {
   "cell_type": "markdown",
   "metadata": {},
   "source": [
    "# Let's compare it against simpler sklearn baselines"
   ]
  },
  {
   "cell_type": "code",
   "execution_count": 12,
   "metadata": {},
   "outputs": [
    {
     "name": "stdout",
     "output_type": "stream",
     "text": [
      "{'stratified_dummy': {'mean': {'accuracy': 0.8639999999999999, 'balanced_accuracy': 0.5161158441049746, 'roc_auc': 0.5161158441049746, 'precision': 0.09960317460317461, 'recall': 0.10583333333333333, 'mrr': 0.16562091503267978, 'precision_at_k_5': 0.12000000000000002, 'hits_at_k_5': 0.10583333333333333, 'precision_at_k_10': 0.06000000000000001, 'hits_at_k_10': 0.2925, 'precision_at_k_30': 0.12, 'hits_at_k_30': 1.0}, 'std': {'accuracy': 0.013928388277184131, 'balanced_accuracy': 0.03638891170364818, 'roc_auc': 0.036388911703648184, 'precision': 0.048861921803878675, 'recall': 0.0804328567467577, 'mrr': 0.0688195754532735, 'precision_at_k_5': 0.09797958971132713, 'hits_at_k_5': 0.0804328567467577, 'precision_at_k_10': 0.048989794855663564, 'hits_at_k_10': 0.3622499137335991, 'precision_at_k_30': 0.05811865258054232, 'hits_at_k_30': 0.0}}, 'most_frequent_dummy': {'mean': {'accuracy': 0.924, 'balanced_accuracy': 0.5, 'roc_auc': 0.5, 'precision': 0.0, 'recall': 0.0, 'mrr': 1.0, 'precision_at_k_5': 0.12000000000000002, 'hits_at_k_5': 1.0, 'precision_at_k_10': 0.13999999999999999, 'hits_at_k_10': 1.0, 'precision_at_k_30': 0.05333333333333333, 'hits_at_k_30': 1.0}, 'std': {'accuracy': 0.0020000000000000018, 'balanced_accuracy': 0.0, 'roc_auc': 0.0, 'precision': 0.0, 'recall': 0.0, 'mrr': 0.0, 'precision_at_k_5': 0.16, 'hits_at_k_5': 0.0, 'precision_at_k_10': 0.19595917942265426, 'hits_at_k_10': 0.0, 'precision_at_k_30': 0.06182412330330469, 'hits_at_k_30': 0.0}}, 'uniform_dummy': {'mean': {'accuracy': 0.076, 'balanced_accuracy': 0.5, 'roc_auc': 0.5, 'precision': 0.076, 'recall': 1.0, 'mrr': 1.0, 'precision_at_k_5': 0.12000000000000002, 'hits_at_k_5': 1.0, 'precision_at_k_10': 0.13999999999999999, 'hits_at_k_10': 1.0, 'precision_at_k_30': 0.05333333333333333, 'hits_at_k_30': 1.0}, 'std': {'accuracy': 0.0020000000000000018, 'balanced_accuracy': 0.0, 'roc_auc': 0.0, 'precision': 0.0020000000000000018, 'recall': 0.0, 'mrr': 0.0, 'precision_at_k_5': 0.16, 'hits_at_k_5': 0.0, 'precision_at_k_10': 0.19595917942265426, 'hits_at_k_10': 0.0, 'precision_at_k_30': 0.06182412330330469, 'hits_at_k_30': 0.0}}, 'logistic_regression': {'mean': {'accuracy': 0.883, 'balanced_accuracy': 0.567608206032119, 'roc_auc': 0.7076348168820995, 'precision': 0.20448717948717948, 'recall': 0.19583333333333333, 'mrr': 0.0596873130260841, 'precision_at_k_5': 0.16, 'hits_at_k_5': 0.05333333333333333, 'precision_at_k_10': 0.16, 'hits_at_k_10': 0.10583333333333333, 'precision_at_k_30': 0.2, 'hits_at_k_30': 0.39416666666666667}, 'std': {'accuracy': 0.01363818169698587, 'balanced_accuracy': 0.03856582996673573, 'roc_auc': 0.04135158341843751, 'precision': 0.05315146780858206, 'recall': 0.08858454843945542, 'mrr': 0.03546367789291253, 'precision_at_k_5': 0.14966629547095767, 'hits_at_k_5': 0.049888765156985884, 'precision_at_k_10': 0.048989794855663564, 'hits_at_k_10': 0.033706247360261135, 'precision_at_k_30': 0.05962847939999439, 'hits_at_k_30': 0.11653564070942227}}, 'decision_tree': {'mean': {'accuracy': 0.908, 'balanced_accuracy': 0.5452217978848414, 'roc_auc': 0.5675846675479829, 'precision': 0.2965151515151515, 'recall': 0.11749999999999998, 'mrr': 0.16389408225515795, 'precision_at_k_5': 0.27999999999999997, 'hits_at_k_5': 0.10499999999999998, 'precision_at_k_10': 0.22000000000000003, 'hits_at_k_10': 0.34249999999999997, 'precision_at_k_30': 0.13999999999999999, 'hits_at_k_30': 0.9866666666666667}, 'std': {'accuracy': 0.016309506430300106, 'balanced_accuracy': 0.03526500415740355, 'roc_auc': 0.06476430478148848, 'precision': 0.17863989766982558, 'recall': 0.062383224240709675, 'mrr': 0.03792787409351845, 'precision_at_k_5': 0.15999999999999998, 'hits_at_k_5': 0.052599112793531674, 'precision_at_k_10': 0.116619037896906, 'hits_at_k_10': 0.308405396984049, 'precision_at_k_30': 0.04422166387140533, 'hits_at_k_30': 0.02666666666666666}}, 'random_forest': {'mean': {'accuracy': 0.924, 'balanced_accuracy': 0.5, 'roc_auc': 0.6890495740305523, 'precision': 0.0, 'recall': 0.0, 'mrr': 0.08664245052379738, 'precision_at_k_5': 0.4, 'hits_at_k_5': 0.13083333333333333, 'precision_at_k_10': 0.36, 'hits_at_k_10': 0.23583333333333334, 'precision_at_k_30': 0.18666666666666668, 'hits_at_k_30': 0.36583333333333334}, 'std': {'accuracy': 0.0020000000000000018, 'balanced_accuracy': 0.0, 'roc_auc': 0.04441319711093399, 'precision': 0.0, 'recall': 0.0, 'mrr': 0.030418547229998, 'precision_at_k_5': 0.17888543819998315, 'hits_at_k_5': 0.056984403324262536, 'precision_at_k_10': 0.10198039027185571, 'hits_at_k_10': 0.06256108126374486, 'precision_at_k_30': 0.06182412330330469, 'hits_at_k_30': 0.11006311320732705}}, 'linear_svc': {'mean': {'accuracy': 0.924, 'balanced_accuracy': 0.5, 'roc_auc': 0.7128512289463377, 'precision': 0.0, 'recall': 0.0, 'mrr': 0.049565301534119574, 'precision_at_k_5': 0.24, 'hits_at_k_5': 0.07916666666666666, 'precision_at_k_10': 0.16, 'hits_at_k_10': 0.10583333333333333, 'precision_at_k_30': 0.18666666666666668, 'hits_at_k_30': 0.3683333333333333}, 'std': {'accuracy': 0.0020000000000000018, 'balanced_accuracy': 0.0, 'roc_auc': 0.042546682486176005, 'precision': 0.0, 'recall': 0.0, 'mrr': 0.01950699493384603, 'precision_at_k_5': 0.14966629547095767, 'hits_at_k_5': 0.05013869652163774, 'precision_at_k_10': 0.048989794855663564, 'hits_at_k_10': 0.033706247360261135, 'precision_at_k_30': 0.06531972647421808, 'hits_at_k_30': 0.13}}}\n"
     ]
    }
   ],
   "source": [
    "from eval import get_baseline_models\n",
    "\n",
    "eval = BinaryEvaluator(train_dataset.X, train_dataset.y)\n",
    "baselines = get_baseline_models()\n",
    "baselines_res = {}\n",
    "\n",
    "for m in baselines:\n",
    "    baselines_res[m] = eval.CV_model(baselines[m])\n",
    "\n",
    "print(baselines_res)"
   ]
  }
 ],
 "metadata": {
  "kernelspec": {
   "display_name": "cuda_env",
   "language": "python",
   "name": "cuda_env"
  },
  "language_info": {
   "codemirror_mode": {
    "name": "ipython",
    "version": 3
   },
   "file_extension": ".py",
   "mimetype": "text/x-python",
   "name": "python",
   "nbconvert_exporter": "python",
   "pygments_lexer": "ipython3",
   "version": "3.10.15"
  }
 },
 "nbformat": 4,
 "nbformat_minor": 2
}
